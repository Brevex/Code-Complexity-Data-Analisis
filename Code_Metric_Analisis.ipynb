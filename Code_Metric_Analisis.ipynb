{
  "nbformat": 4,
  "nbformat_minor": 0,
  "metadata": {
    "colab": {
      "provenance": [],
      "authorship_tag": "ABX9TyPAhp1uVO/i0MJ58LRdwMG0",
      "include_colab_link": true
    },
    "kernelspec": {
      "name": "python3",
      "display_name": "Python 3"
    },
    "language_info": {
      "name": "python"
    }
  },
  "cells": [
    {
      "cell_type": "markdown",
      "metadata": {
        "id": "view-in-github",
        "colab_type": "text"
      },
      "source": [
        "<a href=\"https://colab.research.google.com/github/Brevex/Complexity/blob/main/Code_Metric_Analisis.ipynb\" target=\"_parent\"><img src=\"https://colab.research.google.com/assets/colab-badge.svg\" alt=\"Open In Colab\"/></a>"
      ]
    },
    {
      "cell_type": "code",
      "execution_count": 45,
      "metadata": {
        "id": "ehtaYSum6Qut"
      },
      "outputs": [],
      "source": [
        "import pandas as pd\n",
        "import numpy as np\n",
        "import seaborn as sns"
      ]
    },
    {
      "cell_type": "code",
      "source": [
        "from matplotlib import pyplot as plt"
      ],
      "metadata": {
        "id": "2VDKZghc6g-k"
      },
      "execution_count": 46,
      "outputs": []
    },
    {
      "cell_type": "code",
      "source": [
        "!gdown https://raw.githubusercontent.com/Brevex/Complexity/main/ckclass.csv"
      ],
      "metadata": {
        "id": "hWF5dT0M6uwI"
      },
      "execution_count": null,
      "outputs": []
    },
    {
      "cell_type": "code",
      "source": [
        "df = pd.read_csv('/content/ckclass.csv')\n",
        "df"
      ],
      "metadata": {
        "id": "Yoe-uQgJ6x4N"
      },
      "execution_count": null,
      "outputs": []
    },
    {
      "cell_type": "code",
      "source": [
        "df.info()"
      ],
      "metadata": {
        "id": "NOC0FUrr69R_"
      },
      "execution_count": null,
      "outputs": []
    },
    {
      "cell_type": "code",
      "source": [
        "for analyzedValue in df.columns:\n",
        "    if df[analyzedValue].isnull().any():\n",
        "\n",
        "      missingValuesPercentual = (df[analyzedValue].isnull().sum() * 100) / df.shape[0]\n",
        "      print(f\"{analyzedValue}: {missingValuesPercentual:.3f}% of values are null.\")"
      ],
      "metadata": {
        "id": "QL24kkQO7DuJ"
      },
      "execution_count": null,
      "outputs": []
    },
    {
      "cell_type": "code",
      "source": [
        "for nullValues in df.columns:\n",
        "    if df[nullValues].isnull().any():\n",
        "\n",
        "        print(nullValues + \":\", df[nullValues].isnull().sum())"
      ],
      "metadata": {
        "id": "E_ydC4rk7JLr"
      },
      "execution_count": null,
      "outputs": []
    },
    {
      "cell_type": "code",
      "source": [
        "df.dropna(axis = 0 , inplace = True)"
      ],
      "metadata": {
        "id": "PILiWnX77Rya"
      },
      "execution_count": 52,
      "outputs": []
    },
    {
      "cell_type": "code",
      "source": [
        "df"
      ],
      "metadata": {
        "id": "5bcQyWoi7TPJ"
      },
      "execution_count": null,
      "outputs": []
    },
    {
      "cell_type": "code",
      "source": [
        "categorias_complexidade_ciclomatica = {\n",
        "\n",
        "    'baixa_complexidade': df['file'][df['wmc'] < 10].tolist(),\n",
        "    'media_complexidade': df['file'][(df['wmc'] >= 10) & (df['wmc'] <= 20)].tolist(),\n",
        "    'alta_complexidade': df['file'][(df['wmc'] > 20) & (df['wmc'] <= 50)].tolist(),\n",
        "    'muito_alta_complexidade': df['file'][df['wmc'] > 50].tolist(),\n",
        "}\n",
        "\n",
        "max_length = max(map(len, categorias_complexidade_ciclomatica.values()))\n",
        "\n",
        "for categoria, arquivos in categorias_complexidade_ciclomatica.items():\n",
        "    arquivos.extend(['-'] * (max_length - len(arquivos)))\n",
        "\n",
        "tabela_complexidade_ciclomatica = pd.DataFrame(categorias_complexidade_ciclomatica)\n",
        "\n",
        "tabela_complexidade_ciclomatica.to_csv('tabela_complexidade_ciclomatica.csv', index=False)"
      ],
      "metadata": {
        "id": "cUZvH4la9OnC"
      },
      "execution_count": 54,
      "outputs": []
    },
    {
      "cell_type": "code",
      "source": [
        "complexidade_ciclomatica = pd.read_csv('/content/tabela_complexidade_ciclomatica.csv')\n",
        "complexidade_ciclomatica"
      ],
      "metadata": {
        "id": "YLsyxUiZAkdB"
      },
      "execution_count": null,
      "outputs": []
    },
    {
      "cell_type": "code",
      "source": [
        "# Calcular estatísticas de 'wmc'\n",
        "total_wmc = df['wmc'].sum()\n",
        "min_wmc = df['wmc'].min()\n",
        "max_wmc = df['wmc'].max()\n",
        "mean_wmc = df['wmc'].mean()\n",
        "\n",
        "# Criar um gráfico\n",
        "fig, ax = plt.subplots()\n",
        "\n",
        "# Adicionar barras para o total, mínimo, máximo e média de 'wmc'\n",
        "bar1 = ax.bar('Total WMC', total_wmc, label='Total WMC', color='blue')\n",
        "bar2 = ax.bar('Mínimo WMC', min_wmc, label='Mínimo WMC', color='green')\n",
        "bar3 = ax.bar('Máximo WMC', max_wmc, label='Máximo WMC', color='red')\n",
        "bar4 = ax.bar('Média WMC', mean_wmc, label='Média WMC', color='orange')\n",
        "\n",
        "# Adicionar valores exatos nas barras\n",
        "def add_values_bars(bars):\n",
        "    for bar in bars:\n",
        "        yval = bar.get_height()\n",
        "        ax.text(bar.get_x() + bar.get_width()/2, yval, round(yval, 2), ha='center', va='bottom')\n",
        "\n",
        "add_values_bars(bar1)\n",
        "add_values_bars(bar2)\n",
        "add_values_bars(bar3)\n",
        "add_values_bars(bar4)\n",
        "\n",
        "# Adicionar rótulos e título\n",
        "ax.set_ylabel('Valor de WMC')\n",
        "ax.set_title('Estatísticas de WMC')\n",
        "ax.legend()\n",
        "\n",
        "# Mostrar o gráfico\n",
        "plt.show()"
      ],
      "metadata": {
        "id": "NaQeecQYKcoe"
      },
      "execution_count": null,
      "outputs": []
    },
    {
      "cell_type": "code",
      "source": [
        "df['new_score'] = df['wmc'] * (df['fanin'] * df['fanout'])**2\n",
        "\n",
        "categorias_complexidade = {\n",
        "\n",
        "    'boa_complexidade': df['file'][df['new_score'] <= 100].tolist(),\n",
        "    'complexidade_moderada': df['file'][(df['new_score'] <= 1000)].tolist(),\n",
        "    'complexidade_ruim': df['file'][df['new_score'] > 1000].tolist(),\n",
        "}\n",
        "\n",
        "max_lenght_complexidade = max(map(len, categorias_complexidade.values()))\n",
        "\n",
        "for categoria, arquivos in categorias_complexidade.items():\n",
        "    arquivos.extend(['-'] * (max_lenght_complexidade - len(arquivos)))\n",
        "\n",
        "tabela_complexidade = pd.DataFrame(categorias_complexidade)\n",
        "\n",
        "tabela_complexidade.to_csv('tabela_complexidade.csv', index=False)"
      ],
      "metadata": {
        "id": "oBWtR89tBAUw"
      },
      "execution_count": 56,
      "outputs": []
    },
    {
      "cell_type": "code",
      "source": [
        "df_complexidade = pd.read_csv('/content/tabela_complexidade.csv')\n",
        "df_complexidade"
      ],
      "metadata": {
        "id": "i672p1gGDIxD"
      },
      "execution_count": null,
      "outputs": []
    },
    {
      "cell_type": "code",
      "source": [
        "df['volume_score'] = df['loopQty'] + df['comparisonsQty'] + df['numbersQty'] + df['variablesQty']\n",
        "\n",
        "categorias_maintainability = {\n",
        "\n",
        "    'good_maintainability': df['file'][df['volume_score'] >= 85].tolist(),\n",
        "    'moderate_maintainability': df['file'][(df['volume_score'] >= 65) & (df['volume_score'] < 85)].tolist(),\n",
        "    'difficult_to_maintain': df['file'][df['volume_score'] < 65].tolist(),\n",
        "}\n",
        "\n",
        "max_length_maintainability = max(map(len, categorias_maintainability.values()))\n",
        "\n",
        "for categoria, arquivos in categorias_maintainability.items():\n",
        "    arquivos.extend(['-'] * (max_length_maintainability - len(arquivos)))\n",
        "\n",
        "tabela_maintainability = pd.DataFrame(categorias_maintainability)\n",
        "\n",
        "tabela_maintainability.to_csv('tabela_maintainability.csv', index=False)"
      ],
      "metadata": {
        "id": "AnS8dhMFDXAy"
      },
      "execution_count": 58,
      "outputs": []
    },
    {
      "cell_type": "code",
      "source": [
        "df_maintainbility = pd.read_csv('/content/tabela_maintainability.csv')\n",
        "df_maintainbility"
      ],
      "metadata": {
        "id": "AzMR16qGF6Le"
      },
      "execution_count": null,
      "outputs": []
    }
  ]
}