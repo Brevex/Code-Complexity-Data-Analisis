{
  "nbformat": 4,
  "nbformat_minor": 0,
  "metadata": {
    "colab": {
      "provenance": [],
      "authorship_tag": "ABX9TyPyM4zsmamJIoobk+mY7wJp",
      "include_colab_link": true
    },
    "kernelspec": {
      "name": "python3",
      "display_name": "Python 3"
    },
    "language_info": {
      "name": "python"
    }
  },
  "cells": [
    {
      "cell_type": "markdown",
      "metadata": {
        "id": "view-in-github",
        "colab_type": "text"
      },
      "source": [
        "<a href=\"https://colab.research.google.com/github/Brevex/Code-Metric-Data-Analisis/blob/main/Code_Metric_Analisis.ipynb\" target=\"_parent\"><img src=\"https://colab.research.google.com/assets/colab-badge.svg\" alt=\"Open In Colab\"/></a>"
      ]
    },
    {
      "cell_type": "code",
      "execution_count": 76,
      "metadata": {
        "id": "ehtaYSum6Qut"
      },
      "outputs": [],
      "source": [
        "import pandas as pd\n",
        "import numpy as np\n",
        "import seaborn as sns"
      ]
    },
    {
      "cell_type": "code",
      "source": [
        "from matplotlib import pyplot as plt"
      ],
      "metadata": {
        "id": "2VDKZghc6g-k"
      },
      "execution_count": 77,
      "outputs": []
    },
    {
      "cell_type": "code",
      "source": [
        "!gdown https://raw.githubusercontent.com/Brevex/Complexity/main/ckclass.csv"
      ],
      "metadata": {
        "id": "hWF5dT0M6uwI"
      },
      "execution_count": null,
      "outputs": []
    },
    {
      "cell_type": "code",
      "source": [
        "df = pd.read_csv('/content/ckclass.csv')\n",
        "df"
      ],
      "metadata": {
        "id": "Yoe-uQgJ6x4N"
      },
      "execution_count": null,
      "outputs": []
    },
    {
      "cell_type": "code",
      "source": [
        "df.info()"
      ],
      "metadata": {
        "id": "NOC0FUrr69R_"
      },
      "execution_count": null,
      "outputs": []
    },
    {
      "cell_type": "code",
      "source": [
        "for analyzedValue in df.columns:\n",
        "    if df[analyzedValue].isnull().any():\n",
        "\n",
        "      missingValuesPercentual = (df[analyzedValue].isnull().sum() * 100) / df.shape[0]\n",
        "      print(f\"{analyzedValue}: {missingValuesPercentual:.3f}% of values are null.\")"
      ],
      "metadata": {
        "id": "QL24kkQO7DuJ"
      },
      "execution_count": null,
      "outputs": []
    },
    {
      "cell_type": "code",
      "source": [
        "for nullValues in df.columns:\n",
        "    if df[nullValues].isnull().any():\n",
        "\n",
        "        print(nullValues + \":\", df[nullValues].isnull().sum())"
      ],
      "metadata": {
        "id": "E_ydC4rk7JLr"
      },
      "execution_count": null,
      "outputs": []
    },
    {
      "cell_type": "code",
      "source": [
        "df.dropna(axis = 0 , inplace = True)"
      ],
      "metadata": {
        "id": "PILiWnX77Rya"
      },
      "execution_count": 83,
      "outputs": []
    },
    {
      "cell_type": "code",
      "source": [
        "df"
      ],
      "metadata": {
        "id": "5bcQyWoi7TPJ"
      },
      "execution_count": null,
      "outputs": []
    },
    {
      "cell_type": "code",
      "source": [
        "# Maintainability Score calculation using apply\n",
        "df['Maintainability Score'] = df[['loopQty', 'comparisonsQty', 'numbersQty', 'variablesQty']].apply(sum, axis = 1)\n",
        "\n",
        "# Calculation of Fan-in and Fan-out Complexity using lambda and apply\n",
        "df['Fan-in and Fan-out Complexity'] = df.apply(lambda row: row['wmc'] * (row['fanin'] * row['fanout']) ** 2, axis=1)\n",
        "\n",
        "# Categorization using cut for Risk Category and Fan-in and Fan-out Category\n",
        "df['Risk by Cyclomatic Complexity'] = pd.cut(df['wmc'], bins = [-float('inf'), 10, 20, 50, float('inf')], labels = False)\n",
        "df['Risk by Cyclomatic Complexity'] = pd.Categorical(df['Risk by Cyclomatic Complexity'], categories = [0, 1, 2, 3], ordered = True)\n",
        "\n",
        "df['Fan-in and Fan-out Complexity'] = pd.cut(df['Fan-in and Fan-out Complexity'], bins = [-float('inf'), 100, 1000, float('inf')], labels = False)\n",
        "df['Fan-in and Fan-out Complexity'] = pd.Categorical(df['Fan-in and Fan-out Complexity'], categories = [0, 1, 2], ordered = True)\n",
        "\n",
        "# Add 'Maintainability Score' column before categorizing\n",
        "df['Maintainability Score'] = pd.cut(df['Maintainability Score'], bins = [-float('inf'), 65, 85, float('inf')], labels = False)\n",
        "df['Maintainability Score'] = pd.Categorical(df['Maintainability Score'], categories = [0, 1, 2], ordered = True)\n",
        "\n",
        "complexity_categories = {\n",
        "\n",
        "    'Risk by Cyclomatic Complexity': ['Low', 'Moderate', 'High', 'Very High'],\n",
        "    'Fan-in and Fan-out Complexity': ['Good', 'Moderate', 'High'],\n",
        "    'Maintainability Score': ['Good', 'Moderate', 'Bad']\n",
        "}\n",
        "\n",
        "# Loop to categorize DataFrame columns\n",
        "for category, labels in complexity_categories.items():\n",
        "    df[category] = df[category].map({i: label for i, label in enumerate(labels)})\n",
        "\n",
        "# Selection of relevant columns for the final table\n",
        "complexity_analysis_table = df[['file', 'class', 'Risk by Cyclomatic Complexity', 'Fan-in and Fan-out Complexity', 'Maintainability Score']]\n",
        "\n",
        "# Export to CSV\n",
        "complexity_analysis_table.to_csv('Complexity_Analysis_Table.csv', index = False)"
      ],
      "metadata": {
        "id": "cUZvH4la9OnC"
      },
      "execution_count": 87,
      "outputs": []
    },
    {
      "cell_type": "code",
      "source": [
        "complexidade_ciclomatica = pd.read_csv('/content/Complexity_Analysis_Table.csv')\n",
        "complexidade_ciclomatica"
      ],
      "metadata": {
        "id": "YLsyxUiZAkdB"
      },
      "execution_count": null,
      "outputs": []
    },
    {
      "cell_type": "code",
      "source": [
        "# Calculate 'wmc' statistics\n",
        "total_wmc = df['wmc'].sum()\n",
        "min_wmc = df['wmc'].min()\n",
        "max_wmc = df['wmc'].max()\n",
        "mean_wmc = df['wmc'].mean()\n",
        "\n",
        "# Create a chart\n",
        "fig, ax = plt.subplots()\n",
        "\n",
        "# Add bars for total, min, max and average of 'wmc'\n",
        "bar1 = ax.bar('Total CC', total_wmc, label='Total CC', color='blue')\n",
        "bar2 = ax.bar('Min CC', min_wmc, label='Min CC', color='green')\n",
        "bar3 = ax.bar('Max CC', max_wmc, label='Max CC', color='red')\n",
        "bar4 = ax.bar('Average CC', mean_wmc, label='Average CC', color='orange')\n",
        "\n",
        "# Add exact values to bars\n",
        "def add_values_bars(bars):\n",
        "    for bar in bars:\n",
        "        yval = bar.get_height()\n",
        "        ax.text(bar.get_x() + bar.get_width()/2, yval, round(yval, 2), ha='center', va='bottom')\n",
        "\n",
        "add_values_bars(bar1)\n",
        "add_values_bars(bar2)\n",
        "add_values_bars(bar3)\n",
        "add_values_bars(bar4)\n",
        "\n",
        "# Add labels and title\n",
        "ax.set_ylabel('Cyclomatic Complexity Value')\n",
        "ax.set_title('Cyclomatic Complexity Statistics')\n",
        "ax.legend()\n",
        "\n",
        "# Show the graph\n",
        "plt.show()"
      ],
      "metadata": {
        "id": "NaQeecQYKcoe"
      },
      "execution_count": null,
      "outputs": []
    }
  ]
}